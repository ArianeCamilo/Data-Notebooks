{
 "cells": [
  {
   "cell_type": "code",
   "execution_count": 3,
   "metadata": {},
   "outputs": [],
   "source": [
    "import pandas as pd\n",
    "%matplotlib inline"
   ]
  },
  {
   "cell_type": "code",
   "execution_count": 14,
   "metadata": {},
   "outputs": [
    {
     "data": {
      "text/html": [
       "<div>\n",
       "<style scoped>\n",
       "    .dataframe tbody tr th:only-of-type {\n",
       "        vertical-align: middle;\n",
       "    }\n",
       "\n",
       "    .dataframe tbody tr th {\n",
       "        vertical-align: top;\n",
       "    }\n",
       "\n",
       "    .dataframe thead th {\n",
       "        text-align: right;\n",
       "    }\n",
       "</style>\n",
       "<table border=\"1\" class=\"dataframe\">\n",
       "  <thead>\n",
       "    <tr style=\"text-align: right;\">\n",
       "      <th></th>\n",
       "      <th>Estabelecimento cnes</th>\n",
       "      <th>Municipio do estabelecimento</th>\n",
       "      <th>Complexidade do Procedimento</th>\n",
       "      <th>Carater da internaca/ATENDIMENTO</th>\n",
       "      <th>Sub grupo procedimento realizado</th>\n",
       "      <th>Procedimento realizado</th>\n",
       "    </tr>\n",
       "  </thead>\n",
       "  <tbody>\n",
       "    <tr>\n",
       "      <th>0</th>\n",
       "      <td>6876617 HOSPITAL DA CRIANCA DE BRASILIA JOSE A...</td>\n",
       "      <td>BRASILIA, DF, BR</td>\n",
       "      <td>Média complexidade</td>\n",
       "      <td>Eletivo</td>\n",
       "      <td>Sub Grupo: 15 - Outras cirurgias</td>\n",
       "      <td>TRATAMENTO C/ CIRURGIAS MULTIPLAS</td>\n",
       "    </tr>\n",
       "    <tr>\n",
       "      <th>1</th>\n",
       "      <td>0010456 HBDF HOSPITAL DE BASE DO DISTRITO FEDERAL</td>\n",
       "      <td>BRASILIA, DF, BR</td>\n",
       "      <td>Média complexidade</td>\n",
       "      <td>Urgência</td>\n",
       "      <td>Sub Grupo: 03 - Cirurgia do sistema nervoso ce...</td>\n",
       "      <td>DERIVACAO VENTRICULAR EXTERNAR-SUBGALEAL EXTERNA</td>\n",
       "    </tr>\n",
       "    <tr>\n",
       "      <th>2</th>\n",
       "      <td>0010456 HBDF HOSPITAL DE BASE DO DISTRITO FEDERAL</td>\n",
       "      <td>BRASILIA, DF, BR</td>\n",
       "      <td>Média complexidade</td>\n",
       "      <td>Urgência</td>\n",
       "      <td>Sub Grupo: 15 - Outras cirurgias</td>\n",
       "      <td>TRATAMENTO C/ CIRURGIAS MULTIPLAS</td>\n",
       "    </tr>\n",
       "    <tr>\n",
       "      <th>3</th>\n",
       "      <td>6876617 HOSPITAL DA CRIANCA DE BRASILIA JOSE A...</td>\n",
       "      <td>BRASILIA, DF, BR</td>\n",
       "      <td>Média complexidade</td>\n",
       "      <td>Eletivo</td>\n",
       "      <td>Sub Grupo: 07 - Cirurgia do aparelho digestivo...</td>\n",
       "      <td>HERNIOPLASTIA UMBILICAL</td>\n",
       "    </tr>\n",
       "    <tr>\n",
       "      <th>4</th>\n",
       "      <td>0010456 HBDF HOSPITAL DE BASE DO DISTRITO FEDERAL</td>\n",
       "      <td>BRASILIA, DF, BR</td>\n",
       "      <td>Alta complexidade</td>\n",
       "      <td>Eletivo</td>\n",
       "      <td>Sub Grupo: 16 - Cirurgia em oncologia</td>\n",
       "      <td>RESSECCAO DE TUMOR DE PARTES MOLES EM ONCOLOGIA</td>\n",
       "    </tr>\n",
       "  </tbody>\n",
       "</table>\n",
       "</div>"
      ],
      "text/plain": [
       "                                Estabelecimento cnes  \\\n",
       "0  6876617 HOSPITAL DA CRIANCA DE BRASILIA JOSE A...   \n",
       "1  0010456 HBDF HOSPITAL DE BASE DO DISTRITO FEDERAL   \n",
       "2  0010456 HBDF HOSPITAL DE BASE DO DISTRITO FEDERAL   \n",
       "3  6876617 HOSPITAL DA CRIANCA DE BRASILIA JOSE A...   \n",
       "4  0010456 HBDF HOSPITAL DE BASE DO DISTRITO FEDERAL   \n",
       "\n",
       "  Municipio do estabelecimento Complexidade do Procedimento  \\\n",
       "0            BRASILIA, DF, BR            Média complexidade   \n",
       "1            BRASILIA, DF, BR            Média complexidade   \n",
       "2            BRASILIA, DF, BR            Média complexidade   \n",
       "3            BRASILIA, DF, BR            Média complexidade   \n",
       "4            BRASILIA, DF, BR             Alta complexidade   \n",
       "\n",
       "  Carater da internaca/ATENDIMENTO  \\\n",
       "0                          Eletivo   \n",
       "1                         Urgência   \n",
       "2                         Urgência   \n",
       "3                          Eletivo   \n",
       "4                          Eletivo   \n",
       "\n",
       "                    Sub grupo procedimento realizado  \\\n",
       "0                   Sub Grupo: 15 - Outras cirurgias   \n",
       "1  Sub Grupo: 03 - Cirurgia do sistema nervoso ce...   \n",
       "2                   Sub Grupo: 15 - Outras cirurgias   \n",
       "3  Sub Grupo: 07 - Cirurgia do aparelho digestivo...   \n",
       "4              Sub Grupo: 16 - Cirurgia em oncologia   \n",
       "\n",
       "                             Procedimento realizado  \n",
       "0                 TRATAMENTO C/ CIRURGIAS MULTIPLAS  \n",
       "1  DERIVACAO VENTRICULAR EXTERNAR-SUBGALEAL EXTERNA  \n",
       "2                 TRATAMENTO C/ CIRURGIAS MULTIPLAS  \n",
       "3                           HERNIOPLASTIA UMBILICAL  \n",
       "4   RESSECCAO DE TUMOR DE PARTES MOLES EM ONCOLOGIA  "
      ]
     },
     "execution_count": 14,
     "metadata": {},
     "output_type": "execute_result"
    }
   ],
   "source": [
    "df = pd.read_csv(\"sih-janeiro-2017-cirurgias-eletiva-e-emergencia.csv\", sep=\";\", encoding=\"cp1252\",\n",
    "                usecols=[3,6,7,8,12,14])\n",
    "\n",
    "df.head()"
   ]
  },
  {
   "cell_type": "code",
   "execution_count": 19,
   "metadata": {},
   "outputs": [
    {
     "data": {
      "text/html": [
       "<div>\n",
       "<style scoped>\n",
       "    .dataframe tbody tr th:only-of-type {\n",
       "        vertical-align: middle;\n",
       "    }\n",
       "\n",
       "    .dataframe tbody tr th {\n",
       "        vertical-align: top;\n",
       "    }\n",
       "\n",
       "    .dataframe thead th {\n",
       "        text-align: right;\n",
       "    }\n",
       "</style>\n",
       "<table border=\"1\" class=\"dataframe\">\n",
       "  <thead>\n",
       "    <tr style=\"text-align: right;\">\n",
       "      <th></th>\n",
       "      <th>Hospital</th>\n",
       "      <th>Municipio</th>\n",
       "      <th>Complexidade</th>\n",
       "      <th>Carater Atendimento</th>\n",
       "      <th>Subgrupo Procedimento</th>\n",
       "      <th>Procedimento</th>\n",
       "    </tr>\n",
       "  </thead>\n",
       "  <tbody>\n",
       "    <tr>\n",
       "      <th>0</th>\n",
       "      <td>6876617 HOSPITAL DA CRIANCA DE BRASILIA JOSE A...</td>\n",
       "      <td>BRASILIA, DF, BR</td>\n",
       "      <td>Média complexidade</td>\n",
       "      <td>Eletivo</td>\n",
       "      <td>Sub Grupo: 15 - Outras cirurgias</td>\n",
       "      <td>TRATAMENTO C/ CIRURGIAS MULTIPLAS</td>\n",
       "    </tr>\n",
       "    <tr>\n",
       "      <th>1</th>\n",
       "      <td>0010456 HBDF HOSPITAL DE BASE DO DISTRITO FEDERAL</td>\n",
       "      <td>BRASILIA, DF, BR</td>\n",
       "      <td>Média complexidade</td>\n",
       "      <td>Urgência</td>\n",
       "      <td>Sub Grupo: 03 - Cirurgia do sistema nervoso ce...</td>\n",
       "      <td>DERIVACAO VENTRICULAR EXTERNAR-SUBGALEAL EXTERNA</td>\n",
       "    </tr>\n",
       "    <tr>\n",
       "      <th>2</th>\n",
       "      <td>0010456 HBDF HOSPITAL DE BASE DO DISTRITO FEDERAL</td>\n",
       "      <td>BRASILIA, DF, BR</td>\n",
       "      <td>Média complexidade</td>\n",
       "      <td>Urgência</td>\n",
       "      <td>Sub Grupo: 15 - Outras cirurgias</td>\n",
       "      <td>TRATAMENTO C/ CIRURGIAS MULTIPLAS</td>\n",
       "    </tr>\n",
       "    <tr>\n",
       "      <th>3</th>\n",
       "      <td>6876617 HOSPITAL DA CRIANCA DE BRASILIA JOSE A...</td>\n",
       "      <td>BRASILIA, DF, BR</td>\n",
       "      <td>Média complexidade</td>\n",
       "      <td>Eletivo</td>\n",
       "      <td>Sub Grupo: 07 - Cirurgia do aparelho digestivo...</td>\n",
       "      <td>HERNIOPLASTIA UMBILICAL</td>\n",
       "    </tr>\n",
       "    <tr>\n",
       "      <th>4</th>\n",
       "      <td>0010456 HBDF HOSPITAL DE BASE DO DISTRITO FEDERAL</td>\n",
       "      <td>BRASILIA, DF, BR</td>\n",
       "      <td>Alta complexidade</td>\n",
       "      <td>Eletivo</td>\n",
       "      <td>Sub Grupo: 16 - Cirurgia em oncologia</td>\n",
       "      <td>RESSECCAO DE TUMOR DE PARTES MOLES EM ONCOLOGIA</td>\n",
       "    </tr>\n",
       "  </tbody>\n",
       "</table>\n",
       "</div>"
      ],
      "text/plain": [
       "                                            Hospital          Municipio  \\\n",
       "0  6876617 HOSPITAL DA CRIANCA DE BRASILIA JOSE A...  BRASILIA, DF, BR    \n",
       "1  0010456 HBDF HOSPITAL DE BASE DO DISTRITO FEDERAL  BRASILIA, DF, BR    \n",
       "2  0010456 HBDF HOSPITAL DE BASE DO DISTRITO FEDERAL  BRASILIA, DF, BR    \n",
       "3  6876617 HOSPITAL DA CRIANCA DE BRASILIA JOSE A...  BRASILIA, DF, BR    \n",
       "4  0010456 HBDF HOSPITAL DE BASE DO DISTRITO FEDERAL  BRASILIA, DF, BR    \n",
       "\n",
       "         Complexidade Carater Atendimento  \\\n",
       "0  Média complexidade             Eletivo   \n",
       "1  Média complexidade            Urgência   \n",
       "2  Média complexidade            Urgência   \n",
       "3  Média complexidade             Eletivo   \n",
       "4   Alta complexidade             Eletivo   \n",
       "\n",
       "                               Subgrupo Procedimento  \\\n",
       "0                   Sub Grupo: 15 - Outras cirurgias   \n",
       "1  Sub Grupo: 03 - Cirurgia do sistema nervoso ce...   \n",
       "2                   Sub Grupo: 15 - Outras cirurgias   \n",
       "3  Sub Grupo: 07 - Cirurgia do aparelho digestivo...   \n",
       "4              Sub Grupo: 16 - Cirurgia em oncologia   \n",
       "\n",
       "                                       Procedimento  \n",
       "0                 TRATAMENTO C/ CIRURGIAS MULTIPLAS  \n",
       "1  DERIVACAO VENTRICULAR EXTERNAR-SUBGALEAL EXTERNA  \n",
       "2                 TRATAMENTO C/ CIRURGIAS MULTIPLAS  \n",
       "3                           HERNIOPLASTIA UMBILICAL  \n",
       "4   RESSECCAO DE TUMOR DE PARTES MOLES EM ONCOLOGIA  "
      ]
     },
     "execution_count": 19,
     "metadata": {},
     "output_type": "execute_result"
    }
   ],
   "source": [
    "#Renomeando as colunas\n",
    "\n",
    "df.columns=['Hospital', 'Municipio', 'Complexidade', 'Carater Atendimento', 'Subgrupo Procedimento', 'Procedimento' ]\n",
    "df.head()"
   ]
  },
  {
   "cell_type": "code",
   "execution_count": 20,
   "metadata": {
    "scrolled": true
   },
   "outputs": [
    {
     "data": {
      "text/html": [
       "<div>\n",
       "<style scoped>\n",
       "    .dataframe tbody tr th:only-of-type {\n",
       "        vertical-align: middle;\n",
       "    }\n",
       "\n",
       "    .dataframe tbody tr th {\n",
       "        vertical-align: top;\n",
       "    }\n",
       "\n",
       "    .dataframe thead th {\n",
       "        text-align: right;\n",
       "    }\n",
       "</style>\n",
       "<table border=\"1\" class=\"dataframe\">\n",
       "  <thead>\n",
       "    <tr style=\"text-align: right;\">\n",
       "      <th></th>\n",
       "      <th>Hospital</th>\n",
       "      <th>Municipio</th>\n",
       "      <th>Complexidade</th>\n",
       "      <th>Carater Atendimento</th>\n",
       "      <th>Subgrupo Procedimento</th>\n",
       "      <th>Procedimento</th>\n",
       "    </tr>\n",
       "  </thead>\n",
       "  <tbody>\n",
       "    <tr>\n",
       "      <th>count</th>\n",
       "      <td>4862</td>\n",
       "      <td>4862</td>\n",
       "      <td>4862</td>\n",
       "      <td>4862</td>\n",
       "      <td>4862</td>\n",
       "      <td>4862</td>\n",
       "    </tr>\n",
       "    <tr>\n",
       "      <th>unique</th>\n",
       "      <td>16</td>\n",
       "      <td>11</td>\n",
       "      <td>2</td>\n",
       "      <td>4</td>\n",
       "      <td>16</td>\n",
       "      <td>495</td>\n",
       "    </tr>\n",
       "    <tr>\n",
       "      <th>top</th>\n",
       "      <td>0010456 HBDF HOSPITAL DE BASE DO DISTRITO FEDERAL</td>\n",
       "      <td>BRASILIA, DF, BR</td>\n",
       "      <td>Média complexidade</td>\n",
       "      <td>Urgência</td>\n",
       "      <td>Sub Grupo: 11 - Cirurgia obstétrica</td>\n",
       "      <td>PARTO CESARIANO</td>\n",
       "    </tr>\n",
       "    <tr>\n",
       "      <th>freq</th>\n",
       "      <td>735</td>\n",
       "      <td>1923</td>\n",
       "      <td>4353</td>\n",
       "      <td>3794</td>\n",
       "      <td>1539</td>\n",
       "      <td>1060</td>\n",
       "    </tr>\n",
       "  </tbody>\n",
       "</table>\n",
       "</div>"
      ],
      "text/plain": [
       "                                                 Hospital          Municipio  \\\n",
       "count                                                4862               4862   \n",
       "unique                                                 16                 11   \n",
       "top     0010456 HBDF HOSPITAL DE BASE DO DISTRITO FEDERAL  BRASILIA, DF, BR    \n",
       "freq                                                  735               1923   \n",
       "\n",
       "              Complexidade Carater Atendimento  \\\n",
       "count                 4862                4862   \n",
       "unique                   2                   4   \n",
       "top     Média complexidade            Urgência   \n",
       "freq                  4353                3794   \n",
       "\n",
       "                      Subgrupo Procedimento     Procedimento  \n",
       "count                                  4862             4862  \n",
       "unique                                   16              495  \n",
       "top     Sub Grupo: 11 - Cirurgia obstétrica  PARTO CESARIANO  \n",
       "freq                                   1539             1060  "
      ]
     },
     "execution_count": 20,
     "metadata": {},
     "output_type": "execute_result"
    }
   ],
   "source": [
    "df.describe()"
   ]
  },
  {
   "cell_type": "code",
   "execution_count": 22,
   "metadata": {},
   "outputs": [
    {
     "data": {
      "text/plain": [
       "array(['6876617 HOSPITAL DA CRIANCA DE BRASILIA JOSE ALENCAR HCB',\n",
       "       '0010456 HBDF HOSPITAL DE BASE DO DISTRITO FEDERAL',\n",
       "       '0010499 HRT HOSPITAL REGIONAL DE TAGUATINGA', '0010545 HRBZ',\n",
       "       '0010480 HOSPITAL REGIONAL DE CEILANDIA',\n",
       "       '3276678 INSTITUTO DE CARDIOLOGIA DO DISTRITO FEDERAL',\n",
       "       '0010472 HRG', '0010510 HOSPITAL UNIVERSITARIO DE BRASILIA',\n",
       "       '0010529 HRPL',\n",
       "       '0010537 HOSPITAL MATERNO INFANTIL DE BRASILIA HMIB',\n",
       "       '3055450 CBV CENTRO BRASILEIRO DA VISAO',\n",
       "       '2672197 HRSAM HOSPITAL REGIONAL DE SAMAMBAIA', '0010502 HRS',\n",
       "       '5717515 HRSM', '2645157 HRPA', '0010464 HRAN'], dtype=object)"
      ]
     },
     "execution_count": 22,
     "metadata": {},
     "output_type": "execute_result"
    }
   ],
   "source": [
    "# valores únicos da coluna Hospital (16 valores)\n",
    "df['Hospital'].unique()"
   ]
  },
  {
   "cell_type": "code",
   "execution_count": 23,
   "metadata": {},
   "outputs": [
    {
     "data": {
      "text/plain": [
       "0010456 HBDF HOSPITAL DE BASE DO DISTRITO FEDERAL           735\n",
       "0010472 HRG                                                 555\n",
       "0010480 HOSPITAL REGIONAL DE CEILANDIA                      461\n",
       "0010464 HRAN                                                432\n",
       "0010499 HRT HOSPITAL REGIONAL DE TAGUATINGA                 373\n",
       "0010510 HOSPITAL UNIVERSITARIO DE BRASILIA                  350\n",
       "2645157 HRPA                                                327\n",
       "0010537 HOSPITAL MATERNO INFANTIL DE BRASILIA HMIB          298\n",
       "5717515 HRSM                                                281\n",
       "0010529 HRPL                                                256\n",
       "0010502 HRS                                                 225\n",
       "2672197 HRSAM HOSPITAL REGIONAL DE SAMAMBAIA                195\n",
       "3276678 INSTITUTO DE CARDIOLOGIA DO DISTRITO FEDERAL        191\n",
       "0010545 HRBZ                                                 75\n",
       "6876617 HOSPITAL DA CRIANCA DE BRASILIA JOSE ALENCAR HCB     74\n",
       "3055450 CBV CENTRO BRASILEIRO DA VISAO                       34\n",
       "Name: Hospital, dtype: int64"
      ]
     },
     "execution_count": 23,
     "metadata": {},
     "output_type": "execute_result"
    }
   ],
   "source": [
    "# quantas cirurgias foram realizadas em cada hospital\n",
    "df['Hospital'].value_counts()"
   ]
  },
  {
   "cell_type": "code",
   "execution_count": 31,
   "metadata": {},
   "outputs": [
    {
     "data": {
      "text/plain": [
       "Sub Grupo: 11 - Cirurgia obstétrica                                                   1539\n",
       "Sub Grupo: 07 - Cirurgia do aparelho digestivo, orgãos anexos e parede abdominal       893\n",
       "Sub Grupo: 08 - Cirurgia do sistema osteomuscular                                      651\n",
       "Sub Grupo: 09 - Cirurgia do aparelho geniturinário                                     474\n",
       "Sub Grupo: 06 - Cirurgia do aparelho circulatório                                      299\n",
       "Sub Grupo: 15 - Outras cirurgias                                                       223\n",
       "Sub Grupo: 04 - Cirurgia das vias aéreas superiores, da cabeça e do pescoço            145\n",
       "Sub Grupo: 03 - Cirurgia do sistema nervoso central e periférico                       141\n",
       "Sub Grupo: 16 - Cirurgia em oncologia                                                  110\n",
       "Sub Grupo: 05 - Cirurgia do aparelho da visão                                           98\n",
       "Sub Grupo: 12 - Cirurgia torácica                                                       92\n",
       "Sub Grupo: 01 - Pequenas cirurgias e cirurgias de pele, tecido subcutâneo e mucosa      77\n",
       "Sub Grupo: 10 - Cirurgia de mama                                                        68\n",
       "Sub Grupo: 13 - Cirurgia reparadora                                                     40\n",
       "Sub Grupo: 14 - Cirurgia oro-facial                                                      7\n",
       "Sub Grupo: 02 - Cirurgia de glândulas endócrinas                                         5\n",
       "Name: Subgrupo Procedimento, dtype: int64"
      ]
     },
     "execution_count": 31,
     "metadata": {},
     "output_type": "execute_result"
    }
   ],
   "source": [
    "df['Subgrupo Procedimento'].value_counts()"
   ]
  },
  {
   "cell_type": "code",
   "execution_count": 71,
   "metadata": {},
   "outputs": [
    {
     "data": {
      "text/plain": [
       "<matplotlib.axes._subplots.AxesSubplot at 0xb87e050>"
      ]
     },
     "execution_count": 71,
     "metadata": {},
     "output_type": "execute_result"
    },
    {
     "data": {
      "image/png": "[encoded data removed]",
      "text/plain": [
       "<Figure size 432x288 with 1 Axes>"
      ]
     },
     "metadata": {},
     "output_type": "display_data"
    }
   ],
   "source": [
    "# plotar o gráfico por Subgrupo Procedimento\n",
    "\n",
    "df['Subgrupo Procedimento'].value_counts().plot.barh()"
   ]
  },
  {
   "cell_type": "code",
   "execution_count": 35,
   "metadata": {},
   "outputs": [
    {
     "data": {
      "text/html": [
       "<div>\n",
       "<style scoped>\n",
       "    .dataframe tbody tr th:only-of-type {\n",
       "        vertical-align: middle;\n",
       "    }\n",
       "\n",
       "    .dataframe tbody tr th {\n",
       "        vertical-align: top;\n",
       "    }\n",
       "\n",
       "    .dataframe thead th {\n",
       "        text-align: right;\n",
       "    }\n",
       "</style>\n",
       "<table border=\"1\" class=\"dataframe\">\n",
       "  <thead>\n",
       "    <tr style=\"text-align: right;\">\n",
       "      <th></th>\n",
       "      <th>Hospital</th>\n",
       "      <th>Municipio</th>\n",
       "      <th>Complexidade</th>\n",
       "      <th>Carater Atendimento</th>\n",
       "      <th>Subgrupo Procedimento</th>\n",
       "      <th>Procedimento</th>\n",
       "    </tr>\n",
       "  </thead>\n",
       "  <tbody>\n",
       "    <tr>\n",
       "      <th>1</th>\n",
       "      <td>0010456 HBDF HOSPITAL DE BASE DO DISTRITO FEDERAL</td>\n",
       "      <td>BRASILIA, DF, BR</td>\n",
       "      <td>Média complexidade</td>\n",
       "      <td>Urgência</td>\n",
       "      <td>Sub Grupo: 03 - Cirurgia do sistema nervoso ce...</td>\n",
       "      <td>DERIVACAO VENTRICULAR EXTERNAR-SUBGALEAL EXTERNA</td>\n",
       "    </tr>\n",
       "    <tr>\n",
       "      <th>2</th>\n",
       "      <td>0010456 HBDF HOSPITAL DE BASE DO DISTRITO FEDERAL</td>\n",
       "      <td>BRASILIA, DF, BR</td>\n",
       "      <td>Média complexidade</td>\n",
       "      <td>Urgência</td>\n",
       "      <td>Sub Grupo: 15 - Outras cirurgias</td>\n",
       "      <td>TRATAMENTO C/ CIRURGIAS MULTIPLAS</td>\n",
       "    </tr>\n",
       "    <tr>\n",
       "      <th>4</th>\n",
       "      <td>0010456 HBDF HOSPITAL DE BASE DO DISTRITO FEDERAL</td>\n",
       "      <td>BRASILIA, DF, BR</td>\n",
       "      <td>Alta complexidade</td>\n",
       "      <td>Eletivo</td>\n",
       "      <td>Sub Grupo: 16 - Cirurgia em oncologia</td>\n",
       "      <td>RESSECCAO DE TUMOR DE PARTES MOLES EM ONCOLOGIA</td>\n",
       "    </tr>\n",
       "    <tr>\n",
       "      <th>5</th>\n",
       "      <td>0010456 HBDF HOSPITAL DE BASE DO DISTRITO FEDERAL</td>\n",
       "      <td>BRASILIA, DF, BR</td>\n",
       "      <td>Alta complexidade</td>\n",
       "      <td>Eletivo</td>\n",
       "      <td>Sub Grupo: 06 - Cirurgia do aparelho circulatório</td>\n",
       "      <td>IMPLANTAÇÃO DE CATETER DE LONGA PERMANÊNCIA SE...</td>\n",
       "    </tr>\n",
       "    <tr>\n",
       "      <th>6</th>\n",
       "      <td>0010456 HBDF HOSPITAL DE BASE DO DISTRITO FEDERAL</td>\n",
       "      <td>BRASILIA, DF, BR</td>\n",
       "      <td>Média complexidade</td>\n",
       "      <td>Urgência</td>\n",
       "      <td>Sub Grupo: 06 - Cirurgia do aparelho circulatório</td>\n",
       "      <td>TRATAMENTO CIRURGICO DE LESOES VASCULARES TRAU...</td>\n",
       "    </tr>\n",
       "  </tbody>\n",
       "</table>\n",
       "</div>"
      ],
      "text/plain": [
       "                                            Hospital          Municipio  \\\n",
       "1  0010456 HBDF HOSPITAL DE BASE DO DISTRITO FEDERAL  BRASILIA, DF, BR    \n",
       "2  0010456 HBDF HOSPITAL DE BASE DO DISTRITO FEDERAL  BRASILIA, DF, BR    \n",
       "4  0010456 HBDF HOSPITAL DE BASE DO DISTRITO FEDERAL  BRASILIA, DF, BR    \n",
       "5  0010456 HBDF HOSPITAL DE BASE DO DISTRITO FEDERAL  BRASILIA, DF, BR    \n",
       "6  0010456 HBDF HOSPITAL DE BASE DO DISTRITO FEDERAL  BRASILIA, DF, BR    \n",
       "\n",
       "         Complexidade Carater Atendimento  \\\n",
       "1  Média complexidade            Urgência   \n",
       "2  Média complexidade            Urgência   \n",
       "4   Alta complexidade             Eletivo   \n",
       "5   Alta complexidade             Eletivo   \n",
       "6  Média complexidade            Urgência   \n",
       "\n",
       "                               Subgrupo Procedimento  \\\n",
       "1  Sub Grupo: 03 - Cirurgia do sistema nervoso ce...   \n",
       "2                   Sub Grupo: 15 - Outras cirurgias   \n",
       "4              Sub Grupo: 16 - Cirurgia em oncologia   \n",
       "5  Sub Grupo: 06 - Cirurgia do aparelho circulatório   \n",
       "6  Sub Grupo: 06 - Cirurgia do aparelho circulatório   \n",
       "\n",
       "                                        Procedimento  \n",
       "1   DERIVACAO VENTRICULAR EXTERNAR-SUBGALEAL EXTERNA  \n",
       "2                  TRATAMENTO C/ CIRURGIAS MULTIPLAS  \n",
       "4    RESSECCAO DE TUMOR DE PARTES MOLES EM ONCOLOGIA  \n",
       "5  IMPLANTAÇÃO DE CATETER DE LONGA PERMANÊNCIA SE...  \n",
       "6  TRATAMENTO CIRURGICO DE LESOES VASCULARES TRAU...  "
      ]
     },
     "execution_count": 35,
     "metadata": {},
     "output_type": "execute_result"
    }
   ],
   "source": [
    "# criando um subconjunto dos doados originais para não alterá-los sem querer\n",
    "df_hospbase = df[df['Hospital'] == '0010456 HBDF HOSPITAL DE BASE DO DISTRITO FEDERAL']\n",
    "df_hospbase.head()"
   ]
  },
  {
   "cell_type": "code",
   "execution_count": 38,
   "metadata": {},
   "outputs": [
    {
     "data": {
      "text/html": [
       "<div>\n",
       "<style scoped>\n",
       "    .dataframe tbody tr th:only-of-type {\n",
       "        vertical-align: middle;\n",
       "    }\n",
       "\n",
       "    .dataframe tbody tr th {\n",
       "        vertical-align: top;\n",
       "    }\n",
       "\n",
       "    .dataframe thead th {\n",
       "        text-align: right;\n",
       "    }\n",
       "</style>\n",
       "<table border=\"1\" class=\"dataframe\">\n",
       "  <thead>\n",
       "    <tr style=\"text-align: right;\">\n",
       "      <th></th>\n",
       "      <th>Hospital</th>\n",
       "      <th>Municipio</th>\n",
       "      <th>Complexidade</th>\n",
       "      <th>Carater Atendimento</th>\n",
       "      <th>Subgrupo Procedimento</th>\n",
       "      <th>Procedimento</th>\n",
       "    </tr>\n",
       "  </thead>\n",
       "  <tbody>\n",
       "    <tr>\n",
       "      <th>508</th>\n",
       "      <td>3276678 INSTITUTO DE CARDIOLOGIA DO DISTRITO F...</td>\n",
       "      <td>CRUZEIRO, DF, BR</td>\n",
       "      <td>Alta complexidade</td>\n",
       "      <td>Urgência</td>\n",
       "      <td>Sub Grupo: 06 - Cirurgia do aparelho circulatório</td>\n",
       "      <td>REVASCULARIZACAO MIOCARDICA S/ USO DE EXTRACOR...</td>\n",
       "    </tr>\n",
       "    <tr>\n",
       "      <th>3001</th>\n",
       "      <td>0010529 HRPL</td>\n",
       "      <td>PLANALTINA, DF, BR</td>\n",
       "      <td>Média complexidade</td>\n",
       "      <td>Urgência</td>\n",
       "      <td>Sub Grupo: 08 - Cirurgia do sistema osteomuscular</td>\n",
       "      <td>TRATAMENTO CIRÚRGICO DE LUXAÇÃO / FRATURA-LUXA...</td>\n",
       "    </tr>\n",
       "    <tr>\n",
       "      <th>2</th>\n",
       "      <td>0010456 HBDF HOSPITAL DE BASE DO DISTRITO FEDERAL</td>\n",
       "      <td>BRASILIA, DF, BR</td>\n",
       "      <td>Média complexidade</td>\n",
       "      <td>Urgência</td>\n",
       "      <td>Sub Grupo: 15 - Outras cirurgias</td>\n",
       "      <td>TRATAMENTO C/ CIRURGIAS MULTIPLAS</td>\n",
       "    </tr>\n",
       "    <tr>\n",
       "      <th>2370</th>\n",
       "      <td>0010456 HBDF HOSPITAL DE BASE DO DISTRITO FEDERAL</td>\n",
       "      <td>BRASILIA, DF, BR</td>\n",
       "      <td>Média complexidade</td>\n",
       "      <td>Eletivo</td>\n",
       "      <td>Sub Grupo: 03 - Cirurgia do sistema nervoso ce...</td>\n",
       "      <td>DERIVACAO VENTRICULAR PARA PERITONEO / ATRIO /...</td>\n",
       "    </tr>\n",
       "    <tr>\n",
       "      <th>2387</th>\n",
       "      <td>0010480 HOSPITAL REGIONAL DE CEILANDIA</td>\n",
       "      <td>CEILANDIA, DF, BR</td>\n",
       "      <td>Média complexidade</td>\n",
       "      <td>Urgência</td>\n",
       "      <td>Sub Grupo: 08 - Cirurgia do sistema osteomuscular</td>\n",
       "      <td>TENOPLASTIA OU ENXERTO DE TENDÃO UNICO</td>\n",
       "    </tr>\n",
       "  </tbody>\n",
       "</table>\n",
       "</div>"
      ],
      "text/plain": [
       "                                               Hospital            Municipio  \\\n",
       "508   3276678 INSTITUTO DE CARDIOLOGIA DO DISTRITO F...    CRUZEIRO, DF, BR    \n",
       "3001                                       0010529 HRPL  PLANALTINA, DF, BR    \n",
       "2     0010456 HBDF HOSPITAL DE BASE DO DISTRITO FEDERAL    BRASILIA, DF, BR    \n",
       "2370  0010456 HBDF HOSPITAL DE BASE DO DISTRITO FEDERAL    BRASILIA, DF, BR    \n",
       "2387             0010480 HOSPITAL REGIONAL DE CEILANDIA   CEILANDIA, DF, BR    \n",
       "\n",
       "            Complexidade Carater Atendimento  \\\n",
       "508    Alta complexidade            Urgência   \n",
       "3001  Média complexidade            Urgência   \n",
       "2     Média complexidade            Urgência   \n",
       "2370  Média complexidade             Eletivo   \n",
       "2387  Média complexidade            Urgência   \n",
       "\n",
       "                                  Subgrupo Procedimento  \\\n",
       "508   Sub Grupo: 06 - Cirurgia do aparelho circulatório   \n",
       "3001  Sub Grupo: 08 - Cirurgia do sistema osteomuscular   \n",
       "2                      Sub Grupo: 15 - Outras cirurgias   \n",
       "2370  Sub Grupo: 03 - Cirurgia do sistema nervoso ce...   \n",
       "2387  Sub Grupo: 08 - Cirurgia do sistema osteomuscular   \n",
       "\n",
       "                                           Procedimento  \n",
       "508   REVASCULARIZACAO MIOCARDICA S/ USO DE EXTRACOR...  \n",
       "3001  TRATAMENTO CIRÚRGICO DE LUXAÇÃO / FRATURA-LUXA...  \n",
       "2                     TRATAMENTO C/ CIRURGIAS MULTIPLAS  \n",
       "2370  DERIVACAO VENTRICULAR PARA PERITONEO / ATRIO /...  \n",
       "2387             TENOPLASTIA OU ENXERTO DE TENDÃO UNICO  "
      ]
     },
     "execution_count": 38,
     "metadata": {},
     "output_type": "execute_result"
    }
   ],
   "source": [
    "#listar x linhas aleatórias\n",
    "df.sample(5)"
   ]
  },
  {
   "cell_type": "code",
   "execution_count": 41,
   "metadata": {
    "scrolled": true
   },
   "outputs": [
    {
     "data": {
      "text/plain": [
       "TRATAMENTO C/ CIRURGIAS MULTIPLAS                                                                 47\n",
       "TRAQUEOSTOMIA                                                                                     28\n",
       "DERIVACAO VENTRICULAR PARA PERITONEO / ATRIO / PLEURA / RAQUE                                     26\n",
       "TORACOSTOMIA COM DRENAGEM PLEURAL FECHADA                                                         23\n",
       "IMPLANTE DE MARCAPASSO DE CAMARA DUPLA TRANSVENOSO                                                21\n",
       "TRATAMENTO CIRURGICO DE HEMATOMA SUBDURAL CRONICO                                                 18\n",
       "AMPUTACAO / DESARTICULACAO DE MEMBROS INFERIORES                                                  17\n",
       "TROCA DE GERADOR DE MARCAPASSO DE CAMARA DUPLA                                                    14\n",
       "FACOEMULSIFICACAO C/ IMPLANTE DE LENTE INTRA-OCULAR DOBRAVEL                                      12\n",
       "ANGIOPLASTIA CORONARIANA C/ IMPLANTE DE DOIS STENTS                                               11\n",
       "MASTECTOMIA RADICAL C/ LINFADENECTOMIA AXILAR EM ONCOLOGIA                                        10\n",
       "ANGIOPLASTIA CORONARIANA C/ IMPLANTE DE STENT                                                      9\n",
       "SEPTOPLASTIA  PARA CORREÇÃO DE DESVIO                                                              9\n",
       "DRENAGEM DE ABSCESSO PERIAMIGDALIANO                                                               9\n",
       "OSTEOSSÍNTESE DA FRATURA COMPLEXA DA MANDÍBULA                                                     9\n",
       "MICROCIRURGIA P/ARA ANEURISMA DA CIRCULAÇÃO CEREBRAL ANTERIOR MENOR QUE 1,5 CM                     9\n",
       "SEGMENTECTOMIA/QUADRANTECTOMIA/SETORECTOMIA DE MAMA EM ONCOLOGIA                                   9\n",
       "REDUCAO INCRUENTA DE FRATURA / LUXACAO / FRATURA-LUXACAO DO TORNOZELO                              8\n",
       "SETORECTOMIA / QUADRANTECTOMIA                                                                     8\n",
       "DERIVACAO VENTRICULAR EXTERNAR-SUBGALEAL EXTERNA                                                   8\n",
       "CRANIOTOMIA DESCOMPRESSIVA                                                                         8\n",
       "SUTURA DE ESCLERA                                                                                  8\n",
       "TRATAMENTO CIRURGICO DE HEMATOMA EXTRADURAL                                                        7\n",
       "AMPUTACAO / DESARTICULACAO DE PE E TARSO                                                           7\n",
       "EXERESE DE CALAZIO E OUTRAS PEQUENAS LESOES DA PALPEBRA E SUPERCILIOS                              7\n",
       "AMPUTAÇÃO / DESARTICULAÇÃO DE DEDO                                                                 7\n",
       "TRATAMENTO CIRURGICO DE HEMATOMA SUBDURAL AGUDO                                                    7\n",
       "OSTEOSSÍNTESE DE FRATURA SIMPLES DE MANDÍBULA                                                      7\n",
       "EMBOLECTOMIA ARTERIAL                                                                              7\n",
       "TRATAMENTO CIRURGICO DE HEMATOMA INTRACEREBRAL                                                     6\n",
       "                                                                                                  ..\n",
       "TROMBECTOMIA DO SISTEMA VENOSO                                                                     1\n",
       "TRATAMENTO DE EPISTAXE POR EMBOLIZACAO (INCLUI ESTUDO ANGIOGRAFICO E/OU ENDOSCOPICO)               1\n",
       "REVASCULARIZACAO POR PONTE / TROMBOENDARTERECTOMIA FEMURO-POPLITEA PROXIMAL                        1\n",
       "FISTULECTOMIA / FISTULOTOMIA ANAL                                                                  1\n",
       "TRATAMENTO CIRÚRGICO DE FRATURA / LESÃO FISARIA DAS FALANGES DA MÃO (COM FIXAÇÃO)                  1\n",
       "LAPAROTOMIA VIDEOLAPAROSCOPICA PARA DRENAGEM E/OU BIOPSIA                                          1\n",
       "REVASCULARIZACAO POR PONTE / TROMBOENDARTERECTOMIA FEMURO-POPLITEA DISTAL                          1\n",
       "TRATAMENTO CIRURGICO DE FRATURA / LESAO FISARIA DOS PODODACTILOS                                   1\n",
       "NEFROLITOTOMIA                                                                                     1\n",
       "HEMORROIDECTOMIA                                                                                   1\n",
       "ORQUIECTOMIA UNILATERAL EM ONCOLOGIA                                                               1\n",
       "LARINGECTOMIA PARCIAL                                                                              1\n",
       "SONDAGEM DE CANAL LACRIMAL SOB ANESTESIA GERAL                                                     1\n",
       "DUODENOPANCREATECTOMIA EM ONCOLOGIA                                                                1\n",
       "TRATAMENTO CIRURGICO DE HEMATOMA INTRACEREBRAL (COM TECNICA COMPLEMENTAR)                          1\n",
       "REVISAO CIRURGICA DE COTO DE AMPUTACAO EM MEMBRO INFERIOR (EXCETO DEDOS DO PE)                     1\n",
       "TRATAMENTO CIRURGICO DE FISTULA LIQUORICA RAQUIDIANA                                               1\n",
       "TRATAMENTO CIRURGICO DE SINDROME COMPRESSIVA EM TUNEL OSTEO-FIBROSO AO NIVEL DO CARPO              1\n",
       "TRATAMENTO CIRÚRGICO DE PSEUDARTROSE / RETARDO DE CONSOLIDAÇÃO / PERDA ÓSSEA AO NÍVEL DO TARSO     1\n",
       "MICROCIRURGIA CEREBRAL ENDOSCOPICA                                                                 1\n",
       "RESSECÇÃO DE TUMOR RAQUIMEDULAR EXTRADURAL                                                         1\n",
       "RECONSTRUCAO DO HELIX DA ORELHA                                                                    1\n",
       "DESCOMPRESSAO DE ORBITA POR DOENÇA OU TRAUMA                                                       1\n",
       "REDUCAO INCRUENTA DE LUXACAO FEMURO-PATELAR                                                        1\n",
       "ARTROPLASTIA TOTAL PRIMARIA DO QUADRIL NÃO CIMENTADA / HÍBRIDA                                     1\n",
       "DRENAGEM LIQUÓRICA LOMBAR EXTERNA                                                                  1\n",
       "TROCA DE GERADOR DE MARCAPASSO DE CAMARA UNICA                                                     1\n",
       "CRANIOTOMIA PARA BIOPSIA ENCEFALICA                                                                1\n",
       "ESOFAGOPLASTIA / GASTROPLASTIA                                                                     1\n",
       "TRABECULECTOMIA                                                                                    1\n",
       "Name: Procedimento, Length: 242, dtype: int64"
      ]
     },
     "execution_count": 41,
     "metadata": {},
     "output_type": "execute_result"
    }
   ],
   "source": [
    "# filtrando os procedimentos feitos apenas no Hospital de Base\n",
    "df_hospbase['Procedimento'].value_counts()"
   ]
  },
  {
   "cell_type": "code",
   "execution_count": 43,
   "metadata": {},
   "outputs": [
    {
     "data": {
      "text/plain": [
       "Hospital                 33\n",
       "Municipio                33\n",
       "Complexidade             33\n",
       "Carater Atendimento      33\n",
       "Subgrupo Procedimento    33\n",
       "Procedimento             33\n",
       "dtype: int64"
      ]
     },
     "execution_count": 43,
     "metadata": {},
     "output_type": "execute_result"
    }
   ],
   "source": [
    "# subdividindo o dataframe com base em pedaços de uma palavra\n",
    "df_hospbase[df_hospbase['Procedimento'].str.contains('AMPUTA')].count()"
   ]
  },
  {
   "cell_type": "code",
   "execution_count": 44,
   "metadata": {},
   "outputs": [
    {
     "data": {
      "text/html": [
       "<div>\n",
       "<style scoped>\n",
       "    .dataframe tbody tr th:only-of-type {\n",
       "        vertical-align: middle;\n",
       "    }\n",
       "\n",
       "    .dataframe tbody tr th {\n",
       "        vertical-align: top;\n",
       "    }\n",
       "\n",
       "    .dataframe thead th {\n",
       "        text-align: right;\n",
       "    }\n",
       "</style>\n",
       "<table border=\"1\" class=\"dataframe\">\n",
       "  <thead>\n",
       "    <tr style=\"text-align: right;\">\n",
       "      <th></th>\n",
       "      <th>Hospital</th>\n",
       "      <th>Municipio</th>\n",
       "      <th>Complexidade</th>\n",
       "      <th>Carater Atendimento</th>\n",
       "      <th>Subgrupo Procedimento</th>\n",
       "      <th>Procedimento</th>\n",
       "    </tr>\n",
       "  </thead>\n",
       "  <tbody>\n",
       "    <tr>\n",
       "      <th>130</th>\n",
       "      <td>0010545 HRBZ</td>\n",
       "      <td>BRAZLANDIA, DF, BR</td>\n",
       "      <td>Média complexidade</td>\n",
       "      <td>Urgência</td>\n",
       "      <td>Sub Grupo: 11 - Cirurgia obstétrica</td>\n",
       "      <td>PARTO CESARIANO</td>\n",
       "    </tr>\n",
       "    <tr>\n",
       "      <th>131</th>\n",
       "      <td>0010545 HRBZ</td>\n",
       "      <td>BRAZLANDIA, DF, BR</td>\n",
       "      <td>Média complexidade</td>\n",
       "      <td>Urgência</td>\n",
       "      <td>Sub Grupo: 11 - Cirurgia obstétrica</td>\n",
       "      <td>PARTO CESARIANO</td>\n",
       "    </tr>\n",
       "    <tr>\n",
       "      <th>132</th>\n",
       "      <td>0010545 HRBZ</td>\n",
       "      <td>BRAZLANDIA, DF, BR</td>\n",
       "      <td>Média complexidade</td>\n",
       "      <td>Urgência</td>\n",
       "      <td>Sub Grupo: 11 - Cirurgia obstétrica</td>\n",
       "      <td>PARTO CESARIANO</td>\n",
       "    </tr>\n",
       "    <tr>\n",
       "      <th>133</th>\n",
       "      <td>0010545 HRBZ</td>\n",
       "      <td>BRAZLANDIA, DF, BR</td>\n",
       "      <td>Média complexidade</td>\n",
       "      <td>Urgência</td>\n",
       "      <td>Sub Grupo: 11 - Cirurgia obstétrica</td>\n",
       "      <td>PARTO CESARIANO</td>\n",
       "    </tr>\n",
       "    <tr>\n",
       "      <th>141</th>\n",
       "      <td>0010545 HRBZ</td>\n",
       "      <td>BRAZLANDIA, DF, BR</td>\n",
       "      <td>Média complexidade</td>\n",
       "      <td>Urgência</td>\n",
       "      <td>Sub Grupo: 11 - Cirurgia obstétrica</td>\n",
       "      <td>PARTO CESARIANO</td>\n",
       "    </tr>\n",
       "  </tbody>\n",
       "</table>\n",
       "</div>"
      ],
      "text/plain": [
       "         Hospital            Municipio        Complexidade  \\\n",
       "130  0010545 HRBZ  BRAZLANDIA, DF, BR   Média complexidade   \n",
       "131  0010545 HRBZ  BRAZLANDIA, DF, BR   Média complexidade   \n",
       "132  0010545 HRBZ  BRAZLANDIA, DF, BR   Média complexidade   \n",
       "133  0010545 HRBZ  BRAZLANDIA, DF, BR   Média complexidade   \n",
       "141  0010545 HRBZ  BRAZLANDIA, DF, BR   Média complexidade   \n",
       "\n",
       "    Carater Atendimento                Subgrupo Procedimento     Procedimento  \n",
       "130            Urgência  Sub Grupo: 11 - Cirurgia obstétrica  PARTO CESARIANO  \n",
       "131            Urgência  Sub Grupo: 11 - Cirurgia obstétrica  PARTO CESARIANO  \n",
       "132            Urgência  Sub Grupo: 11 - Cirurgia obstétrica  PARTO CESARIANO  \n",
       "133            Urgência  Sub Grupo: 11 - Cirurgia obstétrica  PARTO CESARIANO  \n",
       "141            Urgência  Sub Grupo: 11 - Cirurgia obstétrica  PARTO CESARIANO  "
      ]
     },
     "execution_count": 44,
     "metadata": {},
     "output_type": "execute_result"
    }
   ],
   "source": [
    "# Dividir o dataframe original apenas pelo procedimento de cesariana\n",
    "df_parto_cesariano = df[df[\"Procedimento\"] == 'PARTO CESARIANO']\n",
    "\n",
    "df_parto_cesariano.head()"
   ]
  },
  {
   "cell_type": "code",
   "execution_count": 45,
   "metadata": {},
   "outputs": [
    {
     "data": {
      "text/plain": [
       "0010480 HOSPITAL REGIONAL DE CEILANDIA                165\n",
       "2645157 HRPA                                          123\n",
       "5717515 HRSM                                          110\n",
       "0010537 HOSPITAL MATERNO INFANTIL DE BRASILIA HMIB     93\n",
       "2672197 HRSAM HOSPITAL REGIONAL DE SAMAMBAIA           92\n",
       "0010502 HRS                                            92\n",
       "0010464 HRAN                                           88\n",
       "0010529 HRPL                                           79\n",
       "0010499 HRT HOSPITAL REGIONAL DE TAGUATINGA            74\n",
       "0010510 HOSPITAL UNIVERSITARIO DE BRASILIA             63\n",
       "0010472 HRG                                            47\n",
       "0010545 HRBZ                                           34\n",
       "Name: Hospital, dtype: int64"
      ]
     },
     "execution_count": 45,
     "metadata": {},
     "output_type": "execute_result"
    }
   ],
   "source": [
    "# Quantidade de partos cesarianos por hospital\n",
    "df_parto_cesariano['Hospital'].value_counts()"
   ]
  },
  {
   "cell_type": "code",
   "execution_count": 48,
   "metadata": {},
   "outputs": [
    {
     "data": {
      "text/plain": [
       "Urgência    1041\n",
       "Eletivo       19\n",
       "Name: Carater Atendimento, dtype: int64"
      ]
     },
     "execution_count": 48,
     "metadata": {},
     "output_type": "execute_result"
    }
   ],
   "source": [
    "df_parto_cesariano['Carater Atendimento'].value_counts()"
   ]
  },
  {
   "cell_type": "code",
   "execution_count": 70,
   "metadata": {},
   "outputs": [
    {
     "data": {
      "text/plain": [
       "<matplotlib.axes._subplots.AxesSubplot at 0xf46cf0>"
      ]
     },
     "execution_count": 70,
     "metadata": {},
     "output_type": "execute_result"
    },
    {
     "data": {
      "image/png": "[encoded data removed]",
      "text/plain": [
       "<Figure size 432x288 with 1 Axes>"
      ]
     },
     "metadata": {},
     "output_type": "display_data"
    }
   ],
   "source": [
    "df_parto_cesariano['Hospital'].value_counts().plot.barh()"
   ]
  },
  {
   "cell_type": "code",
   "execution_count": 73,
   "metadata": {},
   "outputs": [
    {
     "data": {
      "text/plain": [
       "<matplotlib.axes._subplots.AxesSubplot at 0xbbea450>"
      ]
     },
     "execution_count": 73,
     "metadata": {},
     "output_type": "execute_result"
    },
    {
     "data": {
      "image/png": "[encoded data removed]",
      "text/plain": [
       "<Figure size 432x288 with 1 Axes>"
      ]
     },
     "metadata": {},
     "output_type": "display_data"
    }
   ],
   "source": [
    "# invertendo a ordem e inserindo título\n",
    "\n",
    "df_parto_cesariano['Hospital'].value_counts(ascending=True).plot.barh(\n",
    "    title=\"Quantidade de partos cesarianos por hospital\")"
   ]
  },
  {
   "cell_type": "code",
   "execution_count": null,
   "metadata": {},
   "outputs": [],
   "source": []
  }
 ],
 "metadata": {
  "kernelspec": {
   "display_name": "Python 3",
   "language": "python",
   "name": "python3"
  },
  "language_info": {
   "codemirror_mode": {
    "name": "ipython",
    "version": 3
   },
   "file_extension": ".py",
   "mimetype": "text/x-python",
   "name": "python",
   "nbconvert_exporter": "python",
   "pygments_lexer": "ipython3",
   "version": "3.7.0"
  }
 },
 "nbformat": 4,
 "nbformat_minor": 2
}
