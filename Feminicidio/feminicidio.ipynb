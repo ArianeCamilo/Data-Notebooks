{
 "cells": [
  {
   "cell_type": "markdown",
   "metadata": {},
   "source": [
    "## Estudo sobre o Banco de dados com os casos de feminicídio\n",
    "link: http://dados.gov.br/dataset/pesquisa-sobre-feminicidio/resource/4c47d0f0-280d-469a-b71e-fa115fa4d475?inner_span=True\n",
    "\n",
    "Por Ariane Camilo"
   ]
  },
  {
   "cell_type": "code",
   "execution_count": 39,
   "metadata": {},
   "outputs": [],
   "source": [
    "# Importando bibliotecas\n",
    "import pandas as pd\n",
    "import matplotlib.pyplot as plt"
   ]
  },
  {
   "cell_type": "code",
   "execution_count": 40,
   "metadata": {},
   "outputs": [
    {
     "data": {
      "text/html": [
       "<div>\n",
       "<style scoped>\n",
       "    .dataframe tbody tr th:only-of-type {\n",
       "        vertical-align: middle;\n",
       "    }\n",
       "\n",
       "    .dataframe tbody tr th {\n",
       "        vertical-align: top;\n",
       "    }\n",
       "\n",
       "    .dataframe thead th {\n",
       "        text-align: right;\n",
       "    }\n",
       "</style>\n",
       "<table border=\"1\" class=\"dataframe\">\n",
       "  <thead>\n",
       "    <tr style=\"text-align: right;\">\n",
       "      <th></th>\n",
       "      <th>N.</th>\n",
       "      <th>Número do processo</th>\n",
       "      <th>Tribunal</th>\n",
       "      <th>Instrumento</th>\n",
       "      <th>Meio</th>\n",
       "      <th>Crime na pronúncia</th>\n",
       "      <th>Motivo do Crime</th>\n",
       "      <th>Crime na sentença</th>\n",
       "      <th>Pena inicial</th>\n",
       "      <th>Pena após recurso</th>\n",
       "      <th>Histórico de Violência Doméstica</th>\n",
       "      <th>Apelo ao sistema de justiça</th>\n",
       "      <th>Data dos fatos</th>\n",
       "      <th>Menção à LMP (momento processual)</th>\n",
       "      <th>Discurso sobre a vítima</th>\n",
       "      <th>Discurso sobre o agressor</th>\n",
       "      <th>Discurso de gênero (momento processual)</th>\n",
       "    </tr>\n",
       "  </thead>\n",
       "  <tbody>\n",
       "    <tr>\n",
       "      <th>0</th>\n",
       "      <td>1</td>\n",
       "      <td>964118-78.2009.8.13.0672 (1)</td>\n",
       "      <td>TJMG</td>\n",
       "      <td>vara de pescar e botas</td>\n",
       "      <td>espancamento</td>\n",
       "      <td>art. 121, §2º, II e III, CP, c.c. art. 5º, Lei...</td>\n",
       "      <td>vingar-se da vítima por ter recebido dela um t...</td>\n",
       "      <td>art. 121, §2º, I e II, CP</td>\n",
       "      <td>não consta na narrativa</td>\n",
       "      <td>14 anos de reclusão</td>\n",
       "      <td>Sim</td>\n",
       "      <td>Não, por medo das ameaças do réu</td>\n",
       "      <td>Não consta</td>\n",
       "      <td>Delegacia de Polícia</td>\n",
       "      <td>réu sobre a vítima: \"Todo dia quando terminava...</td>\n",
       "      <td>o filho do casal disse que quando o pai não be...</td>\n",
       "      <td>Juiz na sentença: \"Considerando sua então comp...</td>\n",
       "    </tr>\n",
       "    <tr>\n",
       "      <th>1</th>\n",
       "      <td>2</td>\n",
       "      <td>0007507-90.2007.8.13.0240 (4)</td>\n",
       "      <td>TJMG</td>\n",
       "      <td>faca</td>\n",
       "      <td>22 facadas</td>\n",
       "      <td>art. 121, §2º, II e IV, c.c. art.14, II, ambos...</td>\n",
       "      <td>cozinhou feijão para a filha com o uso do gás ...</td>\n",
       "      <td>art. 121, §2º, II e IV, c.c. art.14, II, ambos...</td>\n",
       "      <td>11 anos e 8 meses de reclusão no regime incial...</td>\n",
       "      <td>mantida</td>\n",
       "      <td>sim</td>\n",
       "      <td>não</td>\n",
       "      <td>2006</td>\n",
       "      <td>não</td>\n",
       "      <td>Réu: a vítima bebia e continua a beber muito.</td>\n",
       "      <td>ele também bebia.</td>\n",
       "      <td>Defesa em apelação: \"a vítima tinha fundadas r...</td>\n",
       "    </tr>\n",
       "    <tr>\n",
       "      <th>2</th>\n",
       "      <td>3</td>\n",
       "      <td>0170083-10.2010.8.13.0439</td>\n",
       "      <td>TJMG</td>\n",
       "      <td>arma de fogo</td>\n",
       "      <td>disparos na nuca e ombros</td>\n",
       "      <td>art. 121, §2º, II e IV, c.c. art.14, II, ambos...</td>\n",
       "      <td>inconformismo com o término da relação</td>\n",
       "      <td>art. 121, §2°, II e IV, c.c. art. 14, II, ambo...</td>\n",
       "      <td>12 anos, 8 meses e 14 dias de reclusão no regi...</td>\n",
       "      <td>10 anos, 10 meses e 20 dias de reclusão</td>\n",
       "      <td>sim</td>\n",
       "      <td>não</td>\n",
       "      <td>2010</td>\n",
       "      <td>Juiz na manutenção da custódia cautelar (art. ...</td>\n",
       "      <td>Irmã da vítima: ela era uma pessoa ativa e tra...</td>\n",
       "      <td>réu alegou que trabalhava, tinha filhos, era c...</td>\n",
       "      <td>Acórdão de apelação pela desembargadora relato...</td>\n",
       "    </tr>\n",
       "    <tr>\n",
       "      <th>3</th>\n",
       "      <td>4</td>\n",
       "      <td>2867348-10.2010.8.13.0024 (4)</td>\n",
       "      <td>TJMG</td>\n",
       "      <td>faca</td>\n",
       "      <td>facadas</td>\n",
       "      <td>art.121, §2º, II e IV, CP</td>\n",
       "      <td>ciúmes + relação violenta</td>\n",
       "      <td>art. 121, §2°, II e IV, CP</td>\n",
       "      <td>16 anos de reclusão em regime incial fechado</td>\n",
       "      <td>16 anos e 4 meses de reclusão em regime inicia...</td>\n",
       "      <td>sim</td>\n",
       "      <td>não</td>\n",
       "      <td>2010</td>\n",
       "      <td>Dosimetria: aplica a agravante genérica do art...</td>\n",
       "      <td>irmãs da vítima: ela era usuária de drogas e j...</td>\n",
       "      <td>Irmã da vítima relata o que ouviu dela: \"“esse...</td>\n",
       "      <td>Em acórdão de apelação: “Para a configuração d...</td>\n",
       "    </tr>\n",
       "    <tr>\n",
       "      <th>4</th>\n",
       "      <td>5</td>\n",
       "      <td>6868729-63.2009.8.13.0024 (10)</td>\n",
       "      <td>TJMG</td>\n",
       "      <td>arma de fogo</td>\n",
       "      <td>disparos com a arma</td>\n",
       "      <td>art. 121, §2°, II e IV, CP</td>\n",
       "      <td>reação ao fato de a vítima ter falado \"“então ...</td>\n",
       "      <td>art. 121, §2°, IV, CP</td>\n",
       "      <td>14 anos de reclusão no regime incial fechado</td>\n",
       "      <td>mantida</td>\n",
       "      <td>não há registro no processo</td>\n",
       "      <td>não</td>\n",
       "      <td>2002</td>\n",
       "      <td>Dosimetria: aplica a agravante genérica do art...</td>\n",
       "      <td>não há.</td>\n",
       "      <td>Testemunhas: ele tinha vergonha da obesidade d...</td>\n",
       "      <td>Defesa em apelação: \"“até alguns anos atrás , ...</td>\n",
       "    </tr>\n",
       "  </tbody>\n",
       "</table>\n",
       "</div>"
      ],
      "text/plain": [
       "   N.              Número do processo Tribunal             Instrumento  \\\n",
       "0   1    964118-78.2009.8.13.0672 (1)     TJMG  vara de pescar e botas   \n",
       "1   2   0007507-90.2007.8.13.0240 (4)     TJMG                    faca   \n",
       "2   3       0170083-10.2010.8.13.0439     TJMG            arma de fogo   \n",
       "3   4   2867348-10.2010.8.13.0024 (4)     TJMG                    faca   \n",
       "4   5  6868729-63.2009.8.13.0024 (10)     TJMG            arma de fogo   \n",
       "\n",
       "                        Meio  \\\n",
       "0               espancamento   \n",
       "1                 22 facadas   \n",
       "2  disparos na nuca e ombros   \n",
       "3                    facadas   \n",
       "4        disparos com a arma   \n",
       "\n",
       "                                  Crime na pronúncia  \\\n",
       "0  art. 121, §2º, II e III, CP, c.c. art. 5º, Lei...   \n",
       "1  art. 121, §2º, II e IV, c.c. art.14, II, ambos...   \n",
       "2  art. 121, §2º, II e IV, c.c. art.14, II, ambos...   \n",
       "3                          art.121, §2º, II e IV, CP   \n",
       "4                         art. 121, §2°, II e IV, CP   \n",
       "\n",
       "                                     Motivo do Crime  \\\n",
       "0  vingar-se da vítima por ter recebido dela um t...   \n",
       "1  cozinhou feijão para a filha com o uso do gás ...   \n",
       "2             inconformismo com o término da relação   \n",
       "3                          ciúmes + relação violenta   \n",
       "4  reação ao fato de a vítima ter falado \"“então ...   \n",
       "\n",
       "                                   Crime na sentença  \\\n",
       "0                          art. 121, §2º, I e II, CP   \n",
       "1  art. 121, §2º, II e IV, c.c. art.14, II, ambos...   \n",
       "2  art. 121, §2°, II e IV, c.c. art. 14, II, ambo...   \n",
       "3                         art. 121, §2°, II e IV, CP   \n",
       "4                              art. 121, §2°, IV, CP   \n",
       "\n",
       "                                        Pena inicial  \\\n",
       "0                            não consta na narrativa   \n",
       "1  11 anos e 8 meses de reclusão no regime incial...   \n",
       "2  12 anos, 8 meses e 14 dias de reclusão no regi...   \n",
       "3       16 anos de reclusão em regime incial fechado   \n",
       "4       14 anos de reclusão no regime incial fechado   \n",
       "\n",
       "                                   Pena após recurso  \\\n",
       "0                                14 anos de reclusão   \n",
       "1                                            mantida   \n",
       "2            10 anos, 10 meses e 20 dias de reclusão   \n",
       "3  16 anos e 4 meses de reclusão em regime inicia...   \n",
       "4                                            mantida   \n",
       "\n",
       "  Histórico de Violência Doméstica       Apelo ao sistema de justiça  \\\n",
       "0                              Sim  Não, por medo das ameaças do réu   \n",
       "1                              sim                               não   \n",
       "2                              sim                               não   \n",
       "3                              sim                               não   \n",
       "4      não há registro no processo                               não   \n",
       "\n",
       "  Data dos fatos                  Menção à LMP (momento processual)  \\\n",
       "0     Não consta                               Delegacia de Polícia   \n",
       "1           2006                                                não   \n",
       "2           2010  Juiz na manutenção da custódia cautelar (art. ...   \n",
       "3           2010  Dosimetria: aplica a agravante genérica do art...   \n",
       "4           2002  Dosimetria: aplica a agravante genérica do art...   \n",
       "\n",
       "                             Discurso sobre a vítima  \\\n",
       "0  réu sobre a vítima: \"Todo dia quando terminava...   \n",
       "1      Réu: a vítima bebia e continua a beber muito.   \n",
       "2  Irmã da vítima: ela era uma pessoa ativa e tra...   \n",
       "3  irmãs da vítima: ela era usuária de drogas e j...   \n",
       "4                                            não há.   \n",
       "\n",
       "                           Discurso sobre o agressor  \\\n",
       "0  o filho do casal disse que quando o pai não be...   \n",
       "1                                  ele também bebia.   \n",
       "2  réu alegou que trabalhava, tinha filhos, era c...   \n",
       "3  Irmã da vítima relata o que ouviu dela: \"“esse...   \n",
       "4  Testemunhas: ele tinha vergonha da obesidade d...   \n",
       "\n",
       "             Discurso de gênero (momento processual)  \n",
       "0  Juiz na sentença: \"Considerando sua então comp...  \n",
       "1  Defesa em apelação: \"a vítima tinha fundadas r...  \n",
       "2  Acórdão de apelação pela desembargadora relato...  \n",
       "3  Em acórdão de apelação: “Para a configuração d...  \n",
       "4  Defesa em apelação: \"“até alguns anos atrás , ...  "
      ]
     },
     "execution_count": 40,
     "metadata": {},
     "output_type": "execute_result"
    }
   ],
   "source": [
    "# Criando o dataframe a partir de arquivo Excel\n",
    "df = pd.read_excel('bancocasos-feminicidio.xls')\n",
    "df.head()"
   ]
  },
  {
   "cell_type": "code",
   "execution_count": 41,
   "metadata": {},
   "outputs": [
    {
     "data": {
      "text/plain": [
       "N.                                          int64\n",
       "Número do processo                         object\n",
       "Tribunal                                   object\n",
       "Instrumento                                object\n",
       "Meio                                       object\n",
       "Crime na pronúncia                         object\n",
       "Motivo do Crime                            object\n",
       "Crime na sentença                          object\n",
       "Pena inicial                               object\n",
       "Pena após recurso                          object\n",
       "Histórico de Violência Doméstica           object\n",
       "Apelo ao sistema de justiça                object\n",
       "Data dos fatos                             object\n",
       "Menção à LMP (momento processual)          object\n",
       "Discurso sobre a vítima                    object\n",
       "Discurso sobre o agressor                  object\n",
       "Discurso de gênero (momento processual)    object\n",
       "dtype: object"
      ]
     },
     "execution_count": 41,
     "metadata": {},
     "output_type": "execute_result"
    }
   ],
   "source": [
    "# Tipo dos valores\n",
    "df.dtypes"
   ]
  },
  {
   "cell_type": "code",
   "execution_count": 4,
   "metadata": {},
   "outputs": [
    {
     "data": {
      "text/plain": [
       "(34, 17)"
      ]
     },
     "execution_count": 4,
     "metadata": {},
     "output_type": "execute_result"
    }
   ],
   "source": [
    "df.shape"
   ]
  },
  {
   "cell_type": "markdown",
   "metadata": {},
   "source": [
    "### Vamos estudar os valores únicos de algumas colunas"
   ]
  },
  {
   "cell_type": "code",
   "execution_count": 5,
   "metadata": {},
   "outputs": [
    {
     "data": {
      "text/plain": [
       "disparos com a arma                                                                                                                                                      2\n",
       "uso de arsênico em pequenas quantidades durante muito tempo na comida da vítima                                                                                          1\n",
       "três tiros a queima roupa                                                                                                                                                1\n",
       "golpes no rosto, antebraços e costas                                                                                                                                     1\n",
       "tiros na ex companheira e no atual companheiro dela                                                                                                                      1\n",
       "asfixia + afogamento                                                                                                                                                     1\n",
       "três facadas nas costas da vítima - depois, vítima admitir ter sido apenas uma facada                                                                                    1\n",
       "nove facadas contra a vítima, que faleceu por hemorragia no meio da rua                                                                                                  1\n",
       "33 facadas                                                                                                                                                               1\n",
       "golpes de faca                                                                                                                                                           1\n",
       "mandante, disparo com arma de fogo                                                                                                                                       1\n",
       "mandante, golpe de faca no pescoço.                                                                                                                                      1\n",
       "dois disparos, um na cabeça                                                                                                                                              1\n",
       "golpes coma a faca                                                                                                                                                       1\n",
       "sedou a vítima com diazepan, atentado violento ao pudor (ato diverso da conjunção carnal), golpes na cabeça, empalamento (\"o ânus e a vagina viraram um orifício só\")    1\n",
       "espancamento                                                                                                                                                             1\n",
       "dois disparos contra a vítima. um dos disparos a acertou.                                                                                                                1\n",
       "espancamento + esganamento + ingestão de soda caústica                                                                                                                   1\n",
       "golpes com a faca                                                                                                                                                        1\n",
       "golpes de canivere                                                                                                                                                       1\n",
       "disparo no rosto da vítima                                                                                                                                               1\n",
       "três golpes nas costas                                                                                                                                                   1\n",
       "golpes com o instrumento                                                                                                                                                 1\n",
       "cárcere privado e golpes de faca.                                                                                                                                        1\n",
       "golpes o cabo de vassoura e com a garrafa                                                                                                                                1\n",
       "disparos na nuca e ombros                                                                                                                                                1\n",
       "facadas                                                                                                                                                                  1\n",
       "cinco tiros                                                                                                                                                              1\n",
       "cárcere privado; ameaça de jogar água quente em seu corpo; desferiu golpes na cabeça da vítima com um martelo                                                            1\n",
       "disparos contra a companheira e a sogra                                                                                                                                  1\n",
       "golpes, inclusive na região genital, culminando por cravar a faca no peito da vítima                                                                                     1\n",
       "disparos da arma de fogo                                                                                                                                                 1\n",
       "22 facadas                                                                                                                                                               1\n",
       "Name: Meio, dtype: int64"
      ]
     },
     "execution_count": 5,
     "metadata": {},
     "output_type": "execute_result"
    }
   ],
   "source": [
    "df['Meio'].value_counts()"
   ]
  },
  {
   "cell_type": "code",
   "execution_count": 6,
   "metadata": {},
   "outputs": [
    {
     "data": {
      "text/plain": [
       "TJSP    7\n",
       "TJMG    6\n",
       "TJMT    6\n",
       "TJPA    5\n",
       "TJPR    5\n",
       "TJBA    5\n",
       "Name: Tribunal, dtype: int64"
      ]
     },
     "execution_count": 6,
     "metadata": {},
     "output_type": "execute_result"
    }
   ],
   "source": [
    "df['Tribunal'].value_counts()"
   ]
  },
  {
   "cell_type": "code",
   "execution_count": 7,
   "metadata": {},
   "outputs": [
    {
     "data": {
      "text/plain": [
       "Indignação pela separação do casal                                                                                                                                                                                                              3\n",
       "Indignação pelo fim do relacionamento, sentimento de posse, ciúme.                                                                                                                                                                              2\n",
       "inconformismo com o término da relação                                                                                                                                                                                                          2\n",
       "inconformismo com o término do relacionamento                                                                                                                                                                                                   1\n",
       "inconformismo com o término da relação + imagina que era traído                                                                                                                                                                                 1\n",
       "Indignação pela separação do casal e ciúmes pelo fato de a vítima ter outro relacionamento.                                                                                                                                                     1\n",
       "O réu alegou que trabalhava enquanto a vítima ia para a balada. Ela o teria traído.                                                                                                                                                             1\n",
       "Discussão com a mãe da vítima.                                                                                                                                                                                                                  1\n",
       "vingança por supostamente ter visto a companheira beijar outro homem                                                                                                                                                                            1\n",
       "ciúmes obsessivo + imaginou que fora traído                                                                                                                                                                                                     1\n",
       "relação violenta + discussão sobre compra de drogas                                                                                                                                                                                             1\n",
       "Indignação pela separação do casal.                                                                                                                                                                                                             1\n",
       "ciúmes da nova relação da ex-companheira + inconformismo com o fim do relacionamento                                                                                                                                                            1\n",
       "reação ao fato de a vítima ter falado \"“então some para lá, vai lamber a bunda de seus colegas” + estava embriagado                                                                                                                             1\n",
       "Inconformismo por não conseguir visitar a filha (e por ela não querer vê-lo)                                                                                                                                                                    1\n",
       "cozinhou feijão para a filha com o uso do gás que era do réu; não gostava que ela saísse de casa sozinha; acusou a vítima de traição                                                                                                            1\n",
       "vingar-se da vítima por ter recebido dela um tapa no rosto                                                                                                                                                                                      1\n",
       "Indignação pelo término do relacionamento,                                                                                                                                                                                                      1\n",
       "Indignação pelo fim do relacionamento.                                                                                                                                                                                                          1\n",
       "denúncia das agressões sofridas                                                                                                                                                                                                                 1\n",
       "inconformismo com o fim do relacionamento + ciúmes pelo fato de a vítima trabalhar como empregada doméstica em outra residência                                                                                                                 1\n",
       "O réu queria se vingar da vítima porque ela havia permitido a entrada de seu amigo na residência do casal.                                                                                                                                      1\n",
       "ciúme.                                                                                                                                                                                                                                          1\n",
       "a vítima era advogada da ex-esposa do réu, que estava se separando dele por conta do consumo excessivo de bebida alcoolica e porque ele seria muito ciumento, sobretudo após a vítima abrir um salão de beleza para ajudar na renda familiar    1\n",
       "\"se a vítima não queria viver com ele, não viveria com mais ninguém\" + filho do casal procurou o pai e disse: \"“mamãe mandou pegar R$ 20,00 com o senhor, pois ela vai sair com o namorado e tem que pagar o motel”                             1\n",
       "No inquérito policial: \"observado certo desejo de práticas sexuais com crianças e adolescentes\"; MP: \"“O motivo do delito foi satisfação da lascívia\"                                                                                           1\n",
       "Ciúme, interesse material                                                                                                                                                                                                                       1\n",
       "ciúmes + relação violenta                                                                                                                                                                                                                       1\n",
       "Interesse material                                                                                                                                                                                                                              1\n",
       "vingança por uma suposta traição                                                                                                                                                                                                                1\n",
       "Name: Motivo do Crime, dtype: int64"
      ]
     },
     "execution_count": 7,
     "metadata": {},
     "output_type": "execute_result"
    }
   ],
   "source": [
    "df[\"Motivo do Crime\"].value_counts()"
   ]
  },
  {
   "cell_type": "code",
   "execution_count": 8,
   "metadata": {},
   "outputs": [
    {
     "data": {
      "text/plain": [
       "faca                                            12\n",
       "arma de fogo                                    11\n",
       "espingarda                                       1\n",
       "envenenamento                                    1\n",
       "cabo de vassoura, garrafa de vidro               1\n",
       "asfixia com fio elétrico + balde d\"água          1\n",
       "faca (peixeira)                                  1\n",
       "canivete                                         1\n",
       "vara de pescar e botas                           1\n",
       "cabo de cortadeira                               1\n",
       "Diazepan, instumento contundente, afogamento     1\n",
       "socos, pontapés e martelo                        1\n",
       "soda caústica + força bruta                      1\n",
       "Name: Instrumento, dtype: int64"
      ]
     },
     "execution_count": 8,
     "metadata": {},
     "output_type": "execute_result"
    }
   ],
   "source": [
    "df['Instrumento'].value_counts()"
   ]
  },
  {
   "cell_type": "code",
   "execution_count": 9,
   "metadata": {},
   "outputs": [
    {
     "data": {
      "text/plain": [
       "2007          5\n",
       "2010          4\n",
       "2006          4\n",
       "2012          4\n",
       "2005          3\n",
       "2009          2\n",
       "2004          2\n",
       "1999          1\n",
       "Não consta    1\n",
       "1998.         1\n",
       "1997          1\n",
       "2013          1\n",
       "2002          1\n",
       "2003          1\n",
       "2008          1\n",
       "2011          1\n",
       "2001-2003     1\n",
       "Name: Data dos fatos, dtype: int64"
      ]
     },
     "execution_count": 9,
     "metadata": {},
     "output_type": "execute_result"
    }
   ],
   "source": [
    "df['Data dos fatos'].value_counts()"
   ]
  },
  {
   "cell_type": "markdown",
   "metadata": {},
   "source": [
    "Vemos que não há um padrão na categorização de valores como \"Meio\", \"Instrumento\" e \"Motivo do crime\"\n",
    "\n",
    "Passemos, então, à coluna \"Data dos fatos\""
   ]
  },
  {
   "cell_type": "code",
   "execution_count": 10,
   "metadata": {},
   "outputs": [
    {
     "name": "stdout",
     "output_type": "stream",
     "text": [
      "Não consta é do tipo <class 'str'>\n",
      "1998. é do tipo <class 'str'>\n",
      "2001-2003 é do tipo <class 'str'>\n"
     ]
    }
   ],
   "source": [
    "#Selecionando o que não é inteiro no campo 'Data dos fatos'\n",
    "for i in df['Data dos fatos']:    \n",
    "    if type(i) is not int:        \n",
    "        print(i, \"é do tipo\", type(i))"
   ]
  },
  {
   "cell_type": "markdown",
   "metadata": {},
   "source": [
    "Vemos que há 3 dados não-numéricos e que são do tipo 'string'"
   ]
  },
  {
   "cell_type": "code",
   "execution_count": 42,
   "metadata": {},
   "outputs": [
    {
     "name": "stdout",
     "output_type": "stream",
     "text": [
      "1998 <class 'int'>\n",
      "2003 <class 'int'>\n"
     ]
    }
   ],
   "source": [
    "#Tratando individualmente:\n",
    "\n",
    "data_fatos = []\n",
    "for i in df['Data dos fatos']:\n",
    "    if i == '1998.':\n",
    "        i = 1998\n",
    "        print(i, type(i))\n",
    "        data_fatos.append(i)\n",
    "    elif i == '2001-2003':\n",
    "        i = 2003\n",
    "        print(i, type(i))\n",
    "        data_fatos.append(i)    \n",
    "    else: \n",
    "        data_fatos.append(i)\n",
    "        "
   ]
  },
  {
   "cell_type": "code",
   "execution_count": 16,
   "metadata": {},
   "outputs": [
    {
     "name": "stdout",
     "output_type": "stream",
     "text": [
      "Não consta é do tipo <class 'str'>\n"
     ]
    }
   ],
   "source": [
    "for i in data_fatos:    \n",
    "    if type(i) is not int:        \n",
    "        print(i, \"é do tipo\", type(i))"
   ]
  },
  {
   "cell_type": "code",
   "execution_count": 43,
   "metadata": {},
   "outputs": [],
   "source": [
    "# Atribuindo a nova coluna tratada\n",
    "df['Data dos fatos'] = data_fatos"
   ]
  },
  {
   "cell_type": "code",
   "execution_count": 44,
   "metadata": {},
   "outputs": [
    {
     "data": {
      "text/plain": [
       "2007          5\n",
       "2012          4\n",
       "2010          4\n",
       "2006          4\n",
       "2005          3\n",
       "2009          2\n",
       "2004          2\n",
       "2003          2\n",
       "2013          1\n",
       "2011          1\n",
       "2008          1\n",
       "2002          1\n",
       "1999          1\n",
       "1998          1\n",
       "1997          1\n",
       "Não consta    1\n",
       "Name: Data dos fatos, dtype: int64"
      ]
     },
     "execution_count": 44,
     "metadata": {},
     "output_type": "execute_result"
    }
   ],
   "source": [
    "df['Data dos fatos'].value_counts()"
   ]
  },
  {
   "cell_type": "code",
   "execution_count": 45,
   "metadata": {},
   "outputs": [
    {
     "data": {
      "text/plain": [
       "(array([ 0,  1,  2,  3,  4,  5,  6,  7,  8,  9, 10, 11, 12, 13, 14, 15]),\n",
       " <a list of 16 Text xticklabel objects>)"
      ]
     },
     "execution_count": 45,
     "metadata": {},
     "output_type": "execute_result"
    },
    {
     "data": {
      "image/png": "[encoded data removed]",
      "text/plain": [
       "<Figure size 432x288 with 1 Axes>"
      ]
     },
     "metadata": {},
     "output_type": "display_data"
    }
   ],
   "source": [
    "# Criando a visualização das informações\n",
    "\n",
    "%matplotlib inline\n",
    "df['Data dos fatos'].value_counts().plot.bar(\n",
    "    title='Ano em que ocorreram os crimes de feminicídio já julgados no Brasil')\n",
    "plt.xticks(rotation=45)"
   ]
  },
  {
   "cell_type": "code",
   "execution_count": null,
   "metadata": {},
   "outputs": [],
   "source": []
  }
 ],
 "metadata": {
  "kernelspec": {
   "display_name": "Python 3",
   "language": "python",
   "name": "python3"
  },
  "language_info": {
   "codemirror_mode": {
    "name": "ipython",
    "version": 3
   },
   "file_extension": ".py",
   "mimetype": "text/x-python",
   "name": "python",
   "nbconvert_exporter": "python",
   "pygments_lexer": "ipython3",
   "version": "3.6.5"
  }
 },
 "nbformat": 4,
 "nbformat_minor": 2
}
